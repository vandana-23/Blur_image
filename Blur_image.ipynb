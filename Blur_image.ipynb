{
 "cells": [
  {
   "cell_type": "code",
   "execution_count": 1,
   "id": "b21fd4de-f9de-4d64-8d6e-b7bf25c3d024",
   "metadata": {},
   "outputs": [],
   "source": [
    "import cv2\n",
    "import numpy as np"
   ]
  },
  {
   "cell_type": "code",
   "execution_count": 2,
   "id": "5859d9c8-c3a2-4938-bed8-bd0798d2dc28",
   "metadata": {},
   "outputs": [],
   "source": [
    "#using Boxfilter on image\n",
    "img_path=r\"D:\\Bir&Anim\\birds\\kriti.jpg\"\n",
    "original_img=cv2.imread(img_path)\n",
    "blur_img_3 = cv2.boxFilter(original_img,-1,(5,5))\n",
    "blur_img_3 = cv2.resize(blur_img_3, (256, 256)) \n",
    "original_img = cv2.resize(original_img,(256,256))\n",
    "\n",
    "frame2=np.hstack((original_img,blur_img_3))\n",
    "frame4=np.vstack((frame2,frame2))\n",
    "\n",
    "cv2.imshow(\"Image\",frame4)\n",
    "cv2.waitKey(0)\n",
    "cv2.destroyAllWindows()"
   ]
  },
  {
   "cell_type": "code",
   "execution_count": 3,
   "id": "0e4e24f7-de13-4681-98f6-d4ad51f89851",
   "metadata": {},
   "outputs": [],
   "source": [
    "#for access camera\n",
    "cap=cv2.VideoCapture(0)\n",
    "while cap.isOpened():\n",
    "    ret,frame=cap.read()\n",
    "    if ret:\n",
    "        image=cv2.resize(frame,(1280,720))\n",
    "        cv2.imshow(\"video player\",image)\n",
    "\n",
    "        if cv2.waitKey(25)& 0xff==ord('s'):\n",
    "            break\n",
    "    else:\n",
    "        break\n",
    "cap.release()\n",
    "cv2.destroyAllWindows()"
   ]
  },
  {
   "cell_type": "code",
   "execution_count": 4,
   "id": "fb3145f6-b079-40e4-87e8-006e50707539",
   "metadata": {},
   "outputs": [],
   "source": [
    "# with filter and  original using 5*5 kernel size\n",
    "cap=cv2.VideoCapture(0)\n",
    "while cap.isOpened():\n",
    "    ret,frame=cap.read()\n",
    "    if ret:\n",
    "        image=cv2.resize(frame,(256,256))\n",
    "        blur_img_3 = cv2.boxFilter(image,-1,(5,5))\n",
    "        frame2=np.hstack((image,blur_img_3))\n",
    "        frame4=np.vstack((frame2,frame2))\n",
    "        cv2.imshow(\"video player\",frame4 )\n",
    "      \n",
    "        if cv2.waitKey(25)& 0xff==ord('s'):\n",
    "            break\n",
    "    else:\n",
    "        break\n",
    "cap.release()\n",
    "cv2.destroyAllWindows()"
   ]
  },
  {
   "cell_type": "code",
   "execution_count": null,
   "id": "e9046f63-831f-4512-9c07-0e62f40bc823",
   "metadata": {},
   "outputs": [],
   "source": []
  }
 ],
 "metadata": {
  "kernelspec": {
   "display_name": "Python 3 (ipykernel)",
   "language": "python",
   "name": "python3"
  },
  "language_info": {
   "codemirror_mode": {
    "name": "ipython",
    "version": 3
   },
   "file_extension": ".py",
   "mimetype": "text/x-python",
   "name": "python",
   "nbconvert_exporter": "python",
   "pygments_lexer": "ipython3",
   "version": "3.11.7"
  }
 },
 "nbformat": 4,
 "nbformat_minor": 5
}
